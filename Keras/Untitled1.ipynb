{
 "cells": [
  {
   "cell_type": "markdown",
   "metadata": {
    "slideshow": {
     "slide_type": "slide"
    }
   },
   "source": [
    "## Setting stuff up\n",
    "### Importing libraries"
   ]
  },
  {
   "cell_type": "code",
   "execution_count": 37,
   "metadata": {
    "slideshow": {
     "slide_type": "fragment"
    }
   },
   "outputs": [],
   "source": [
    "from keras.models import Sequential\n",
    "from keras.layers import Dense, Dropout\n",
    "from keras.callbacks import TensorBoard\n",
    "from keras import backend as K\n",
    "from sklearn.model_selection import StratifiedKFold\n",
    "\n",
    "import time\n",
    "import numpy as np"
   ]
  },
  {
   "cell_type": "markdown",
   "metadata": {
    "slideshow": {
     "slide_type": "subslide"
    }
   },
   "source": [
    "### Loading data"
   ]
  },
  {
   "cell_type": "code",
   "execution_count": 40,
   "metadata": {
    "collapsed": true,
    "scrolled": true,
    "slideshow": {
     "slide_type": "fragment"
    }
   },
   "outputs": [],
   "source": [
    "from stress_data_prep import subjects"
   ]
  },
  {
   "cell_type": "markdown",
   "metadata": {
    "slideshow": {
     "slide_type": "slide"
    }
   },
   "source": [
    "## Concatening arrays"
   ]
  },
  {
   "cell_type": "code",
   "execution_count": 41,
   "metadata": {
    "slideshow": {
     "slide_type": "fragment"
    }
   },
   "outputs": [
    {
     "name": "stdout",
     "output_type": "stream",
     "text": [
      "first pass : X =  (8, 59401)\n",
      "second pass : nparray =  (3, 53719)\n",
      "second pass : X  = (8, 59401)\n",
      "(8, 113120)\n",
      "second pass : nparray =  (3, 59401)\n",
      "second pass : X  = (8, 113120)\n",
      "(8, 172521)\n",
      "second pass : nparray =  (3, 55785)\n",
      "second pass : X  = (8, 172521)\n",
      "(8, 228306)\n",
      "second pass : nparray =  (3, 56302)\n",
      "second pass : X  = (8, 228306)\n",
      "(8, 284608)\n",
      "second pass : nparray =  (3, 66632)\n",
      "second pass : X  = (8, 284608)\n",
      "(8, 351240)\n",
      "second pass : nparray =  (3, 85228)\n",
      "second pass : X  = (8, 351240)\n",
      "(8, 436468)\n",
      "second pass : nparray =  (3, 67666)\n",
      "second pass : X  = (8, 436468)\n",
      "(8, 504134)\n"
     ]
    }
   ],
   "source": [
    "def load_all_subjects_with_labels():\n",
    "\tfor i in range(len(subjects)):\n",
    "\t\tif i is 0:\n",
    "\t\t\tX = np.array((subjects[i].hr, subjects[i].bvp, subjects[i].eda, subjects[i].overall_health, subjects[i].overall_stress, subjects[i].energetic, subjects[i].sleep_quality_past_month, subjects[i].sleep_quality_past_24h))\n",
    "\t\t\tprint(\"first pass : X = \", X.shape)\n",
    "\t\t\tY = np.array((subjects[i].binary_output))\n",
    "\t\telse:\n",
    "\t\t\tprint(\"second pass : nparray = \", np.array((subjects[i].hr, subjects[i].bvp, subjects[i].eda)).shape)\n",
    "\t\t\tprint(\"second pass : X  =\", X.shape)\n",
    "\t\t\tX = np.concatenate((X, np.array((subjects[i].hr, subjects[i].bvp, subjects[i].eda, subjects[i].overall_health, subjects[i].overall_stress, subjects[i].energetic, subjects[i].sleep_quality_past_month, subjects[i].sleep_quality_past_24h))), axis=1)\n",
    "\t\t\tprint(X.shape)\n",
    "\t\t\tY = np.concatenate((Y, np.array((subjects[i].binary_output))), axis=0)\n",
    "\tX = X.T\n",
    "\treturn X, Y\n",
    "\n",
    "X,Y = load_all_subjects_with_labels()"
   ]
  },
  {
   "cell_type": "code",
   "execution_count": null,
   "metadata": {
    "collapsed": true
   },
   "outputs": [],
   "source": []
  }
 ],
 "metadata": {
  "celltoolbar": "Slideshow",
  "kernelspec": {
   "display_name": "Python 3",
   "language": "python",
   "name": "python3"
  },
  "language_info": {
   "codemirror_mode": {
    "name": "ipython",
    "version": 3
   },
   "file_extension": ".py",
   "mimetype": "text/x-python",
   "name": "python",
   "nbconvert_exporter": "python",
   "pygments_lexer": "ipython3",
   "version": "3.6.2"
  }
 },
 "nbformat": 4,
 "nbformat_minor": 2
}
